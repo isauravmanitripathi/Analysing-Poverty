{
 "cells": [
  {
   "cell_type": "code",
   "execution_count": 1,
   "metadata": {
    "collapsed": true
   },
   "outputs": [
    {
     "name": "stdout",
     "output_type": "stream",
     "text": [
      "Collecting dabl\r\n",
      "  Using cached dabl-0.2.2-py3-none-any.whl (558 kB)\r\n",
      "Requirement already satisfied: numpy in /Users/sauravtripathi/Downloads/python/Online-Retail-Transaction/venv/lib/python3.8/site-packages (from dabl) (1.23.4)\r\n",
      "Requirement already satisfied: seaborn in /Users/sauravtripathi/Downloads/python/Online-Retail-Transaction/venv/lib/python3.8/site-packages (from dabl) (0.12.1)\r\n",
      "Requirement already satisfied: matplotlib in /Users/sauravtripathi/Downloads/python/Online-Retail-Transaction/venv/lib/python3.8/site-packages (from dabl) (3.6.0)\r\n",
      "Collecting scikit-learn>=0.24.0\r\n",
      "  Downloading scikit_learn-1.1.3-cp38-cp38-macosx_10_9_x86_64.whl (8.6 MB)\r\n",
      "\u001B[K     |████████████████████████████████| 8.6 MB 3.8 MB/s eta 0:00:01     |█████████████▋                  | 3.7 MB 3.8 MB/s eta 0:00:02\r\n",
      "\u001B[?25hCollecting scipy\r\n",
      "  Downloading scipy-1.9.3-cp38-cp38-macosx_10_9_x86_64.whl (34.2 MB)\r\n",
      "\u001B[K     |████████████████████████████████| 34.2 MB 648 kB/s eta 0:00:011     |████████████████████████████    | 29.9 MB 75.5 MB/s eta 0:00:01\r\n",
      "\u001B[?25hRequirement already satisfied: pandas in /Users/sauravtripathi/Downloads/python/Online-Retail-Transaction/venv/lib/python3.8/site-packages (from dabl) (1.5.1)\r\n",
      "Collecting threadpoolctl>=2.0.0\r\n",
      "  Using cached threadpoolctl-3.1.0-py3-none-any.whl (14 kB)\r\n",
      "Collecting joblib>=1.0.0\r\n",
      "  Downloading joblib-1.2.0-py3-none-any.whl (297 kB)\r\n",
      "\u001B[K     |████████████████████████████████| 297 kB 12.9 MB/s eta 0:00:01\r\n",
      "\u001B[?25hRequirement already satisfied: pyparsing>=2.2.1 in /Users/sauravtripathi/Downloads/python/Online-Retail-Transaction/venv/lib/python3.8/site-packages (from matplotlib->dabl) (3.0.9)\r\n",
      "Requirement already satisfied: python-dateutil>=2.7 in /Users/sauravtripathi/Downloads/python/Online-Retail-Transaction/venv/lib/python3.8/site-packages (from matplotlib->dabl) (2.8.2)\r\n",
      "Requirement already satisfied: contourpy>=1.0.1 in /Users/sauravtripathi/Downloads/python/Online-Retail-Transaction/venv/lib/python3.8/site-packages (from matplotlib->dabl) (1.0.5)\r\n",
      "Requirement already satisfied: cycler>=0.10 in /Users/sauravtripathi/Downloads/python/Online-Retail-Transaction/venv/lib/python3.8/site-packages (from matplotlib->dabl) (0.11.0)\r\n",
      "Requirement already satisfied: pillow>=6.2.0 in /Users/sauravtripathi/Downloads/python/Online-Retail-Transaction/venv/lib/python3.8/site-packages (from matplotlib->dabl) (9.2.0)\r\n",
      "Requirement already satisfied: packaging>=20.0 in /Users/sauravtripathi/Downloads/python/Online-Retail-Transaction/venv/lib/python3.8/site-packages (from matplotlib->dabl) (21.3)\r\n",
      "Requirement already satisfied: kiwisolver>=1.0.1 in /Users/sauravtripathi/Downloads/python/Online-Retail-Transaction/venv/lib/python3.8/site-packages (from matplotlib->dabl) (1.4.4)\r\n",
      "Requirement already satisfied: fonttools>=4.22.0 in /Users/sauravtripathi/Downloads/python/Online-Retail-Transaction/venv/lib/python3.8/site-packages (from matplotlib->dabl) (4.38.0)\r\n",
      "Requirement already satisfied: six>=1.5 in /Users/sauravtripathi/Downloads/python/Online-Retail-Transaction/venv/lib/python3.8/site-packages (from python-dateutil>=2.7->matplotlib->dabl) (1.16.0)\r\n",
      "Requirement already satisfied: pytz>=2020.1 in /Users/sauravtripathi/Downloads/python/Online-Retail-Transaction/venv/lib/python3.8/site-packages (from pandas->dabl) (2022.5)\r\n",
      "Installing collected packages: threadpoolctl, scipy, joblib, scikit-learn, dabl\r\n",
      "Successfully installed dabl-0.2.2 joblib-1.2.0 scikit-learn-1.1.3 scipy-1.9.3 threadpoolctl-3.1.0\r\n",
      "\u001B[33mWARNING: You are using pip version 21.1.2; however, version 22.3 is available.\r\n",
      "You should consider upgrading via the '/Users/sauravtripathi/Downloads/python/Online-Retail-Transaction/venv/bin/python -m pip install --upgrade pip' command.\u001B[0m\r\n",
      "Collecting plotly\r\n",
      "  Downloading plotly-5.11.0-py2.py3-none-any.whl (15.3 MB)\r\n",
      "\u001B[K     |████████████████████████████████| 15.3 MB 3.6 MB/s eta 0:00:01\r\n",
      "\u001B[?25hCollecting tenacity>=6.2.0\r\n",
      "  Downloading tenacity-8.1.0-py3-none-any.whl (23 kB)\r\n",
      "Installing collected packages: tenacity, plotly\r\n",
      "Successfully installed plotly-5.11.0 tenacity-8.1.0\r\n",
      "\u001B[33mWARNING: You are using pip version 21.1.2; however, version 22.3 is available.\r\n",
      "You should consider upgrading via the '/Users/sauravtripathi/Downloads/python/Online-Retail-Transaction/venv/bin/python -m pip install --upgrade pip' command.\u001B[0m\r\n",
      "Requirement already satisfied: ipywidgets in /Users/sauravtripathi/Downloads/python/Online-Retail-Transaction/venv/lib/python3.8/site-packages (8.0.2)\r\n",
      "Requirement already satisfied: ipykernel>=4.5.1 in /Users/sauravtripathi/Downloads/python/Online-Retail-Transaction/venv/lib/python3.8/site-packages (from ipywidgets) (6.16.2)\r\n",
      "Requirement already satisfied: traitlets>=4.3.1 in /Users/sauravtripathi/Downloads/python/Online-Retail-Transaction/venv/lib/python3.8/site-packages (from ipywidgets) (5.5.0)\r\n",
      "Requirement already satisfied: widgetsnbextension~=4.0 in /Users/sauravtripathi/Downloads/python/Online-Retail-Transaction/venv/lib/python3.8/site-packages (from ipywidgets) (4.0.3)\r\n",
      "Requirement already satisfied: ipython>=6.1.0 in /Users/sauravtripathi/Downloads/python/Online-Retail-Transaction/venv/lib/python3.8/site-packages (from ipywidgets) (8.5.0)\r\n",
      "Requirement already satisfied: jupyterlab-widgets~=3.0 in /Users/sauravtripathi/Downloads/python/Online-Retail-Transaction/venv/lib/python3.8/site-packages (from ipywidgets) (3.0.3)\r\n",
      "Requirement already satisfied: jupyter-client>=6.1.12 in /Users/sauravtripathi/Downloads/python/Online-Retail-Transaction/venv/lib/python3.8/site-packages (from ipykernel>=4.5.1->ipywidgets) (7.4.4)\r\n",
      "Requirement already satisfied: psutil in /Users/sauravtripathi/Downloads/python/Online-Retail-Transaction/venv/lib/python3.8/site-packages (from ipykernel>=4.5.1->ipywidgets) (5.9.3)\r\n",
      "Requirement already satisfied: pyzmq>=17 in /Users/sauravtripathi/Downloads/python/Online-Retail-Transaction/venv/lib/python3.8/site-packages (from ipykernel>=4.5.1->ipywidgets) (24.0.1)\r\n",
      "Requirement already satisfied: tornado>=6.1 in /Users/sauravtripathi/Downloads/python/Online-Retail-Transaction/venv/lib/python3.8/site-packages (from ipykernel>=4.5.1->ipywidgets) (6.2)\r\n",
      "Requirement already satisfied: debugpy>=1.0 in /Users/sauravtripathi/Downloads/python/Online-Retail-Transaction/venv/lib/python3.8/site-packages (from ipykernel>=4.5.1->ipywidgets) (1.6.3)\r\n",
      "Requirement already satisfied: appnope in /Users/sauravtripathi/Downloads/python/Online-Retail-Transaction/venv/lib/python3.8/site-packages (from ipykernel>=4.5.1->ipywidgets) (0.1.3)\r\n",
      "Requirement already satisfied: matplotlib-inline>=0.1 in /Users/sauravtripathi/Downloads/python/Online-Retail-Transaction/venv/lib/python3.8/site-packages (from ipykernel>=4.5.1->ipywidgets) (0.1.6)\r\n",
      "Requirement already satisfied: nest-asyncio in /Users/sauravtripathi/Downloads/python/Online-Retail-Transaction/venv/lib/python3.8/site-packages (from ipykernel>=4.5.1->ipywidgets) (1.5.6)\r\n",
      "Requirement already satisfied: packaging in /Users/sauravtripathi/Downloads/python/Online-Retail-Transaction/venv/lib/python3.8/site-packages (from ipykernel>=4.5.1->ipywidgets) (21.3)\r\n",
      "Requirement already satisfied: stack-data in /Users/sauravtripathi/Downloads/python/Online-Retail-Transaction/venv/lib/python3.8/site-packages (from ipython>=6.1.0->ipywidgets) (0.5.1)\r\n",
      "Requirement already satisfied: pexpect>4.3 in /Users/sauravtripathi/Downloads/python/Online-Retail-Transaction/venv/lib/python3.8/site-packages (from ipython>=6.1.0->ipywidgets) (4.8.0)\r\n",
      "Requirement already satisfied: prompt-toolkit<3.1.0,>3.0.1 in /Users/sauravtripathi/Downloads/python/Online-Retail-Transaction/venv/lib/python3.8/site-packages (from ipython>=6.1.0->ipywidgets) (3.0.31)\r\n",
      "Requirement already satisfied: pickleshare in /Users/sauravtripathi/Downloads/python/Online-Retail-Transaction/venv/lib/python3.8/site-packages (from ipython>=6.1.0->ipywidgets) (0.7.5)\r\n",
      "Requirement already satisfied: pygments>=2.4.0 in /Users/sauravtripathi/Downloads/python/Online-Retail-Transaction/venv/lib/python3.8/site-packages (from ipython>=6.1.0->ipywidgets) (2.13.0)\r\n",
      "Requirement already satisfied: jedi>=0.16 in /Users/sauravtripathi/Downloads/python/Online-Retail-Transaction/venv/lib/python3.8/site-packages (from ipython>=6.1.0->ipywidgets) (0.18.1)\r\n",
      "Requirement already satisfied: backcall in /Users/sauravtripathi/Downloads/python/Online-Retail-Transaction/venv/lib/python3.8/site-packages (from ipython>=6.1.0->ipywidgets) (0.2.0)\r\n",
      "Requirement already satisfied: decorator in /Users/sauravtripathi/Downloads/python/Online-Retail-Transaction/venv/lib/python3.8/site-packages (from ipython>=6.1.0->ipywidgets) (5.1.1)\r\n",
      "Requirement already satisfied: parso<0.9.0,>=0.8.0 in /Users/sauravtripathi/Downloads/python/Online-Retail-Transaction/venv/lib/python3.8/site-packages (from jedi>=0.16->ipython>=6.1.0->ipywidgets) (0.8.3)\r\n",
      "Requirement already satisfied: jupyter-core>=4.9.2 in /Users/sauravtripathi/Downloads/python/Online-Retail-Transaction/venv/lib/python3.8/site-packages (from jupyter-client>=6.1.12->ipykernel>=4.5.1->ipywidgets) (4.11.2)\r\n",
      "Requirement already satisfied: entrypoints in /Users/sauravtripathi/Downloads/python/Online-Retail-Transaction/venv/lib/python3.8/site-packages (from jupyter-client>=6.1.12->ipykernel>=4.5.1->ipywidgets) (0.4)\r\n",
      "Requirement already satisfied: python-dateutil>=2.8.2 in /Users/sauravtripathi/Downloads/python/Online-Retail-Transaction/venv/lib/python3.8/site-packages (from jupyter-client>=6.1.12->ipykernel>=4.5.1->ipywidgets) (2.8.2)\r\n",
      "Requirement already satisfied: ptyprocess>=0.5 in /Users/sauravtripathi/Downloads/python/Online-Retail-Transaction/venv/lib/python3.8/site-packages (from pexpect>4.3->ipython>=6.1.0->ipywidgets) (0.7.0)\r\n",
      "Requirement already satisfied: wcwidth in /Users/sauravtripathi/Downloads/python/Online-Retail-Transaction/venv/lib/python3.8/site-packages (from prompt-toolkit<3.1.0,>3.0.1->ipython>=6.1.0->ipywidgets) (0.2.5)\r\n",
      "Requirement already satisfied: six>=1.5 in /Users/sauravtripathi/Downloads/python/Online-Retail-Transaction/venv/lib/python3.8/site-packages (from python-dateutil>=2.8.2->jupyter-client>=6.1.12->ipykernel>=4.5.1->ipywidgets) (1.16.0)\r\n",
      "Requirement already satisfied: pyparsing!=3.0.5,>=2.0.2 in /Users/sauravtripathi/Downloads/python/Online-Retail-Transaction/venv/lib/python3.8/site-packages (from packaging->ipykernel>=4.5.1->ipywidgets) (3.0.9)\r\n",
      "Requirement already satisfied: asttokens in /Users/sauravtripathi/Downloads/python/Online-Retail-Transaction/venv/lib/python3.8/site-packages (from stack-data->ipython>=6.1.0->ipywidgets) (2.0.8)\r\n",
      "Requirement already satisfied: pure-eval in /Users/sauravtripathi/Downloads/python/Online-Retail-Transaction/venv/lib/python3.8/site-packages (from stack-data->ipython>=6.1.0->ipywidgets) (0.2.2)\r\n",
      "Requirement already satisfied: executing in /Users/sauravtripathi/Downloads/python/Online-Retail-Transaction/venv/lib/python3.8/site-packages (from stack-data->ipython>=6.1.0->ipywidgets) (1.1.1)\r\n",
      "\u001B[33mWARNING: You are using pip version 21.1.2; however, version 22.3 is available.\r\n",
      "You should consider upgrading via the '/Users/sauravtripathi/Downloads/python/Online-Retail-Transaction/venv/bin/python -m pip install --upgrade pip' command.\u001B[0m\r\n"
     ]
    }
   ],
   "source": [
    "!pip install dabl\n",
    "!pip install plotly\n",
    "!pip install ipywidgets"
   ]
  },
  {
   "cell_type": "code",
   "execution_count": 2,
   "outputs": [
    {
     "name": "stdout",
     "output_type": "stream",
     "text": [
      "Requirement already satisfied: ipywidgets in /Users/sauravtripathi/Downloads/python/Online-Retail-Transaction/venv/lib/python3.8/site-packages (8.0.2)\r\n",
      "Requirement already satisfied: ipython>=6.1.0 in /Users/sauravtripathi/Downloads/python/Online-Retail-Transaction/venv/lib/python3.8/site-packages (from ipywidgets) (8.5.0)\r\n",
      "Requirement already satisfied: traitlets>=4.3.1 in /Users/sauravtripathi/Downloads/python/Online-Retail-Transaction/venv/lib/python3.8/site-packages (from ipywidgets) (5.5.0)\r\n",
      "Requirement already satisfied: widgetsnbextension~=4.0 in /Users/sauravtripathi/Downloads/python/Online-Retail-Transaction/venv/lib/python3.8/site-packages (from ipywidgets) (4.0.3)\r\n",
      "Requirement already satisfied: ipykernel>=4.5.1 in /Users/sauravtripathi/Downloads/python/Online-Retail-Transaction/venv/lib/python3.8/site-packages (from ipywidgets) (6.16.2)\r\n",
      "Requirement already satisfied: jupyterlab-widgets~=3.0 in /Users/sauravtripathi/Downloads/python/Online-Retail-Transaction/venv/lib/python3.8/site-packages (from ipywidgets) (3.0.3)\r\n",
      "Requirement already satisfied: jupyter-client>=6.1.12 in /Users/sauravtripathi/Downloads/python/Online-Retail-Transaction/venv/lib/python3.8/site-packages (from ipykernel>=4.5.1->ipywidgets) (7.4.4)\r\n",
      "Requirement already satisfied: debugpy>=1.0 in /Users/sauravtripathi/Downloads/python/Online-Retail-Transaction/venv/lib/python3.8/site-packages (from ipykernel>=4.5.1->ipywidgets) (1.6.3)\r\n",
      "Requirement already satisfied: tornado>=6.1 in /Users/sauravtripathi/Downloads/python/Online-Retail-Transaction/venv/lib/python3.8/site-packages (from ipykernel>=4.5.1->ipywidgets) (6.2)\r\n",
      "Requirement already satisfied: appnope in /Users/sauravtripathi/Downloads/python/Online-Retail-Transaction/venv/lib/python3.8/site-packages (from ipykernel>=4.5.1->ipywidgets) (0.1.3)\r\n",
      "Requirement already satisfied: matplotlib-inline>=0.1 in /Users/sauravtripathi/Downloads/python/Online-Retail-Transaction/venv/lib/python3.8/site-packages (from ipykernel>=4.5.1->ipywidgets) (0.1.6)\r\n",
      "Requirement already satisfied: psutil in /Users/sauravtripathi/Downloads/python/Online-Retail-Transaction/venv/lib/python3.8/site-packages (from ipykernel>=4.5.1->ipywidgets) (5.9.3)\r\n",
      "Requirement already satisfied: packaging in /Users/sauravtripathi/Downloads/python/Online-Retail-Transaction/venv/lib/python3.8/site-packages (from ipykernel>=4.5.1->ipywidgets) (21.3)\r\n",
      "Requirement already satisfied: nest-asyncio in /Users/sauravtripathi/Downloads/python/Online-Retail-Transaction/venv/lib/python3.8/site-packages (from ipykernel>=4.5.1->ipywidgets) (1.5.6)\r\n",
      "Requirement already satisfied: pyzmq>=17 in /Users/sauravtripathi/Downloads/python/Online-Retail-Transaction/venv/lib/python3.8/site-packages (from ipykernel>=4.5.1->ipywidgets) (24.0.1)\r\n",
      "Requirement already satisfied: prompt-toolkit<3.1.0,>3.0.1 in /Users/sauravtripathi/Downloads/python/Online-Retail-Transaction/venv/lib/python3.8/site-packages (from ipython>=6.1.0->ipywidgets) (3.0.31)\r\n",
      "Requirement already satisfied: stack-data in /Users/sauravtripathi/Downloads/python/Online-Retail-Transaction/venv/lib/python3.8/site-packages (from ipython>=6.1.0->ipywidgets) (0.5.1)\r\n",
      "Requirement already satisfied: decorator in /Users/sauravtripathi/Downloads/python/Online-Retail-Transaction/venv/lib/python3.8/site-packages (from ipython>=6.1.0->ipywidgets) (5.1.1)\r\n",
      "Requirement already satisfied: jedi>=0.16 in /Users/sauravtripathi/Downloads/python/Online-Retail-Transaction/venv/lib/python3.8/site-packages (from ipython>=6.1.0->ipywidgets) (0.18.1)\r\n",
      "Requirement already satisfied: pygments>=2.4.0 in /Users/sauravtripathi/Downloads/python/Online-Retail-Transaction/venv/lib/python3.8/site-packages (from ipython>=6.1.0->ipywidgets) (2.13.0)\r\n",
      "Requirement already satisfied: pexpect>4.3 in /Users/sauravtripathi/Downloads/python/Online-Retail-Transaction/venv/lib/python3.8/site-packages (from ipython>=6.1.0->ipywidgets) (4.8.0)\r\n",
      "Requirement already satisfied: pickleshare in /Users/sauravtripathi/Downloads/python/Online-Retail-Transaction/venv/lib/python3.8/site-packages (from ipython>=6.1.0->ipywidgets) (0.7.5)\r\n",
      "Requirement already satisfied: backcall in /Users/sauravtripathi/Downloads/python/Online-Retail-Transaction/venv/lib/python3.8/site-packages (from ipython>=6.1.0->ipywidgets) (0.2.0)\r\n",
      "Requirement already satisfied: parso<0.9.0,>=0.8.0 in /Users/sauravtripathi/Downloads/python/Online-Retail-Transaction/venv/lib/python3.8/site-packages (from jedi>=0.16->ipython>=6.1.0->ipywidgets) (0.8.3)\r\n",
      "Requirement already satisfied: python-dateutil>=2.8.2 in /Users/sauravtripathi/Downloads/python/Online-Retail-Transaction/venv/lib/python3.8/site-packages (from jupyter-client>=6.1.12->ipykernel>=4.5.1->ipywidgets) (2.8.2)\r\n",
      "Requirement already satisfied: jupyter-core>=4.9.2 in /Users/sauravtripathi/Downloads/python/Online-Retail-Transaction/venv/lib/python3.8/site-packages (from jupyter-client>=6.1.12->ipykernel>=4.5.1->ipywidgets) (4.11.2)\r\n",
      "Requirement already satisfied: entrypoints in /Users/sauravtripathi/Downloads/python/Online-Retail-Transaction/venv/lib/python3.8/site-packages (from jupyter-client>=6.1.12->ipykernel>=4.5.1->ipywidgets) (0.4)\r\n",
      "Requirement already satisfied: ptyprocess>=0.5 in /Users/sauravtripathi/Downloads/python/Online-Retail-Transaction/venv/lib/python3.8/site-packages (from pexpect>4.3->ipython>=6.1.0->ipywidgets) (0.7.0)\r\n",
      "Requirement already satisfied: wcwidth in /Users/sauravtripathi/Downloads/python/Online-Retail-Transaction/venv/lib/python3.8/site-packages (from prompt-toolkit<3.1.0,>3.0.1->ipython>=6.1.0->ipywidgets) (0.2.5)\r\n",
      "Requirement already satisfied: six>=1.5 in /Users/sauravtripathi/Downloads/python/Online-Retail-Transaction/venv/lib/python3.8/site-packages (from python-dateutil>=2.8.2->jupyter-client>=6.1.12->ipykernel>=4.5.1->ipywidgets) (1.16.0)\r\n",
      "Requirement already satisfied: pyparsing!=3.0.5,>=2.0.2 in /Users/sauravtripathi/Downloads/python/Online-Retail-Transaction/venv/lib/python3.8/site-packages (from packaging->ipykernel>=4.5.1->ipywidgets) (3.0.9)\r\n",
      "Requirement already satisfied: asttokens in /Users/sauravtripathi/Downloads/python/Online-Retail-Transaction/venv/lib/python3.8/site-packages (from stack-data->ipython>=6.1.0->ipywidgets) (2.0.8)\r\n",
      "Requirement already satisfied: pure-eval in /Users/sauravtripathi/Downloads/python/Online-Retail-Transaction/venv/lib/python3.8/site-packages (from stack-data->ipython>=6.1.0->ipywidgets) (0.2.2)\r\n",
      "Requirement already satisfied: executing in /Users/sauravtripathi/Downloads/python/Online-Retail-Transaction/venv/lib/python3.8/site-packages (from stack-data->ipython>=6.1.0->ipywidgets) (1.1.1)\r\n",
      "\u001B[33mWARNING: You are using pip version 21.1.2; however, version 22.3 is available.\r\n",
      "You should consider upgrading via the '/Users/sauravtripathi/Downloads/python/Online-Retail-Transaction/venv/bin/python -m pip install --upgrade pip' command.\u001B[0m\r\n"
     ]
    }
   ],
   "source": [
    "!pip install ipywidgets"
   ],
   "metadata": {
    "collapsed": false,
    "pycharm": {
     "name": "#%%\n"
    }
   }
  },
  {
   "cell_type": "code",
   "execution_count": 3,
   "outputs": [
    {
     "name": "stderr",
     "output_type": "stream",
     "text": [
      "/Users/sauravtripathi/Downloads/python/Online-Retail-Transaction/venv/lib/python3.8/site-packages/sklearn/experimental/enable_hist_gradient_boosting.py:16: UserWarning: Since version 1.0, it is not needed to import enable_hist_gradient_boosting anymore. HistGradientBoostingClassifier and HistGradientBoostingRegressor are now stable and can be normally imported from sklearn.ensemble.\n",
      "  warnings.warn(\n"
     ]
    },
    {
     "ename": "ModuleNotFoundError",
     "evalue": "No module named 'pandas_profiling'",
     "output_type": "error",
     "traceback": [
      "\u001B[0;31m---------------------------------------------------------------------------\u001B[0m",
      "\u001B[0;31mModuleNotFoundError\u001B[0m                       Traceback (most recent call last)",
      "Cell \u001B[0;32mIn [3], line 4\u001B[0m\n\u001B[1;32m      2\u001B[0m \u001B[38;5;28;01mimport\u001B[39;00m \u001B[38;5;21;01mpandas\u001B[39;00m \u001B[38;5;28;01mas\u001B[39;00m \u001B[38;5;21;01mpd\u001B[39;00m\n\u001B[1;32m      3\u001B[0m \u001B[38;5;28;01mimport\u001B[39;00m \u001B[38;5;21;01mdabl\u001B[39;00m \n\u001B[0;32m----> 4\u001B[0m \u001B[38;5;28;01mimport\u001B[39;00m \u001B[38;5;21;01mpandas_profiling\u001B[39;00m \u001B[38;5;28;01mas\u001B[39;00m \u001B[38;5;21;01mprofile\u001B[39;00m\n",
      "\u001B[0;31mModuleNotFoundError\u001B[0m: No module named 'pandas_profiling'"
     ]
    }
   ],
   "source": [
    "import numpy as np\n",
    "import pandas as pd\n",
    "import dabl\n",
    "import pandas_profiling as profile"
   ],
   "metadata": {
    "collapsed": false,
    "pycharm": {
     "name": "#%%\n"
    }
   }
  },
  {
   "cell_type": "code",
   "execution_count": 5,
   "outputs": [],
   "source": [
    "import plotly\n",
    "from plotly.offline import iplot\n",
    "import seaborn as sns\n",
    "import matplotlib.pyplot as plt\n",
    "import plotly.express as px\n",
    "\n",
    "import ipywidgets\n",
    "from ipywidgets import interact\n",
    "from ipywidgets import interact_manual"
   ],
   "metadata": {
    "collapsed": false,
    "pycharm": {
     "name": "#%%\n"
    }
   }
  },
  {
   "cell_type": "code",
   "execution_count": 6,
   "outputs": [
    {
     "data": {
      "text/plain": "(102, 8)"
     },
     "execution_count": 6,
     "metadata": {},
     "output_type": "execute_result"
    }
   ],
   "source": [
    "country = pd.read_csv('MPI_national.csv', engine = 'python')\n",
    "country.shape"
   ],
   "metadata": {
    "collapsed": false,
    "pycharm": {
     "name": "#%%\n"
    }
   }
  },
  {
   "cell_type": "code",
   "execution_count": 7,
   "outputs": [
    {
     "data": {
      "text/plain": "   ISO     Country  MPI Urban  Headcount Ratio Urban  \\\n0  KAZ  Kazakhstan      0.000                    0.0   \n1  SRB      Serbia      0.000                    0.1   \n2  KGZ  Kyrgyzstan      0.000                    0.1   \n3  TUN     Tunisia      0.000                    0.1   \n4  ARM     Armenia      0.001                    0.2   \n\n   Intensity of Deprivation Urban  MPI Rural  Headcount Ratio Rural  \\\n0                            33.3      0.000                   0.09   \n1                            41.4      0.002                   0.50   \n2                            40.2      0.003                   0.70   \n3                            35.6      0.012                   3.18   \n4                            33.3      0.001                   0.39   \n\n   Intensity of Deprivation Rural  \n0                            33.3  \n1                            40.3  \n2                            37.1  \n3                            38.7  \n4                            36.9  ",
      "text/html": "<div>\n<style scoped>\n    .dataframe tbody tr th:only-of-type {\n        vertical-align: middle;\n    }\n\n    .dataframe tbody tr th {\n        vertical-align: top;\n    }\n\n    .dataframe thead th {\n        text-align: right;\n    }\n</style>\n<table border=\"1\" class=\"dataframe\">\n  <thead>\n    <tr style=\"text-align: right;\">\n      <th></th>\n      <th>ISO</th>\n      <th>Country</th>\n      <th>MPI Urban</th>\n      <th>Headcount Ratio Urban</th>\n      <th>Intensity of Deprivation Urban</th>\n      <th>MPI Rural</th>\n      <th>Headcount Ratio Rural</th>\n      <th>Intensity of Deprivation Rural</th>\n    </tr>\n  </thead>\n  <tbody>\n    <tr>\n      <th>0</th>\n      <td>KAZ</td>\n      <td>Kazakhstan</td>\n      <td>0.000</td>\n      <td>0.0</td>\n      <td>33.3</td>\n      <td>0.000</td>\n      <td>0.09</td>\n      <td>33.3</td>\n    </tr>\n    <tr>\n      <th>1</th>\n      <td>SRB</td>\n      <td>Serbia</td>\n      <td>0.000</td>\n      <td>0.1</td>\n      <td>41.4</td>\n      <td>0.002</td>\n      <td>0.50</td>\n      <td>40.3</td>\n    </tr>\n    <tr>\n      <th>2</th>\n      <td>KGZ</td>\n      <td>Kyrgyzstan</td>\n      <td>0.000</td>\n      <td>0.1</td>\n      <td>40.2</td>\n      <td>0.003</td>\n      <td>0.70</td>\n      <td>37.1</td>\n    </tr>\n    <tr>\n      <th>3</th>\n      <td>TUN</td>\n      <td>Tunisia</td>\n      <td>0.000</td>\n      <td>0.1</td>\n      <td>35.6</td>\n      <td>0.012</td>\n      <td>3.18</td>\n      <td>38.7</td>\n    </tr>\n    <tr>\n      <th>4</th>\n      <td>ARM</td>\n      <td>Armenia</td>\n      <td>0.001</td>\n      <td>0.2</td>\n      <td>33.3</td>\n      <td>0.001</td>\n      <td>0.39</td>\n      <td>36.9</td>\n    </tr>\n  </tbody>\n</table>\n</div>"
     },
     "execution_count": 7,
     "metadata": {},
     "output_type": "execute_result"
    }
   ],
   "source": [
    "country.head()"
   ],
   "metadata": {
    "collapsed": false,
    "pycharm": {
     "name": "#%%\n"
    }
   }
  },
  {
   "cell_type": "code",
   "execution_count": 8,
   "outputs": [
    {
     "data": {
      "text/plain": "     ISO                   Country  MPI Urban  Headcount Ratio Urban  \\\n97   CAF  Central African Republic      0.289                   58.2   \n98   LBR                   Liberia      0.290                   60.5   \n99   SOM                   Somalia      0.293                   55.9   \n100  TCD                      Chad      0.351                   64.8   \n101  SSD               South Sudan      0.459                   82.5   \n\n     Intensity of Deprivation Urban  MPI Rural  Headcount Ratio Rural  \\\n97                             49.7      0.519                  89.79   \n98                             48.0      0.481                  84.86   \n99                             52.4      0.651                  96.92   \n100                            54.1      0.609                  93.41   \n101                            55.7      0.591                  94.00   \n\n     Intensity of Deprivation Rural  \n97                             57.8  \n98                             56.6  \n99                             67.2  \n100                            65.2  \n101                            62.8  ",
      "text/html": "<div>\n<style scoped>\n    .dataframe tbody tr th:only-of-type {\n        vertical-align: middle;\n    }\n\n    .dataframe tbody tr th {\n        vertical-align: top;\n    }\n\n    .dataframe thead th {\n        text-align: right;\n    }\n</style>\n<table border=\"1\" class=\"dataframe\">\n  <thead>\n    <tr style=\"text-align: right;\">\n      <th></th>\n      <th>ISO</th>\n      <th>Country</th>\n      <th>MPI Urban</th>\n      <th>Headcount Ratio Urban</th>\n      <th>Intensity of Deprivation Urban</th>\n      <th>MPI Rural</th>\n      <th>Headcount Ratio Rural</th>\n      <th>Intensity of Deprivation Rural</th>\n    </tr>\n  </thead>\n  <tbody>\n    <tr>\n      <th>97</th>\n      <td>CAF</td>\n      <td>Central African Republic</td>\n      <td>0.289</td>\n      <td>58.2</td>\n      <td>49.7</td>\n      <td>0.519</td>\n      <td>89.79</td>\n      <td>57.8</td>\n    </tr>\n    <tr>\n      <th>98</th>\n      <td>LBR</td>\n      <td>Liberia</td>\n      <td>0.290</td>\n      <td>60.5</td>\n      <td>48.0</td>\n      <td>0.481</td>\n      <td>84.86</td>\n      <td>56.6</td>\n    </tr>\n    <tr>\n      <th>99</th>\n      <td>SOM</td>\n      <td>Somalia</td>\n      <td>0.293</td>\n      <td>55.9</td>\n      <td>52.4</td>\n      <td>0.651</td>\n      <td>96.92</td>\n      <td>67.2</td>\n    </tr>\n    <tr>\n      <th>100</th>\n      <td>TCD</td>\n      <td>Chad</td>\n      <td>0.351</td>\n      <td>64.8</td>\n      <td>54.1</td>\n      <td>0.609</td>\n      <td>93.41</td>\n      <td>65.2</td>\n    </tr>\n    <tr>\n      <th>101</th>\n      <td>SSD</td>\n      <td>South Sudan</td>\n      <td>0.459</td>\n      <td>82.5</td>\n      <td>55.7</td>\n      <td>0.591</td>\n      <td>94.00</td>\n      <td>62.8</td>\n    </tr>\n  </tbody>\n</table>\n</div>"
     },
     "execution_count": 8,
     "metadata": {},
     "output_type": "execute_result"
    }
   ],
   "source": [
    "country.tail()"
   ],
   "metadata": {
    "collapsed": false,
    "pycharm": {
     "name": "#%%\n"
    }
   }
  },
  {
   "cell_type": "code",
   "execution_count": 10,
   "outputs": [
    {
     "data": {
      "text/plain": "    ISO               Country  MPI Urban  Headcount Ratio Urban  \\\n98  LBR               Liberia      0.290                   60.5   \n14  DZA               Algeria      0.003                    0.7   \n31  SLV           El Salvador      0.010                    2.4   \n79  AFG           Afghanistan      0.132                   28.8   \n50  ZWE              Zimbabwe      0.034                    8.7   \n45  IRQ                  Iraq      0.028                    7.7   \n10  LCA           Saint Lucia      0.002                    0.5   \n85  TLS           Timor-Leste      0.176                   37.3   \n7   MDA  Moldova, Republic of      0.001                    0.3   \n86  GMB                Gambia      0.183                   38.3   \n\n    Intensity of Deprivation Urban  MPI Rural  Headcount Ratio Rural  \\\n98                            48.0      0.481                  84.86   \n14                            36.9      0.011                   2.70   \n31                            40.3      0.052                  12.51   \n79                            45.8      0.347                  64.66   \n50                            39.3      0.202                  46.27   \n45                            36.0      0.083                  20.48   \n10                            36.7      0.004                   1.05   \n85                            47.3      0.414                  77.03   \n7                             42.2      0.003                   1.01   \n86                            47.8      0.459                  81.97   \n\n    Intensity of Deprivation Rural  \n98                            56.6  \n14                            40.0  \n31                            41.8  \n79                            53.6  \n50                            43.7  \n45                            40.6  \n10                            35.2  \n85                            53.7  \n7                             34.7  \n86                            56.0  ",
      "text/html": "<div>\n<style scoped>\n    .dataframe tbody tr th:only-of-type {\n        vertical-align: middle;\n    }\n\n    .dataframe tbody tr th {\n        vertical-align: top;\n    }\n\n    .dataframe thead th {\n        text-align: right;\n    }\n</style>\n<table border=\"1\" class=\"dataframe\">\n  <thead>\n    <tr style=\"text-align: right;\">\n      <th></th>\n      <th>ISO</th>\n      <th>Country</th>\n      <th>MPI Urban</th>\n      <th>Headcount Ratio Urban</th>\n      <th>Intensity of Deprivation Urban</th>\n      <th>MPI Rural</th>\n      <th>Headcount Ratio Rural</th>\n      <th>Intensity of Deprivation Rural</th>\n    </tr>\n  </thead>\n  <tbody>\n    <tr>\n      <th>98</th>\n      <td>LBR</td>\n      <td>Liberia</td>\n      <td>0.290</td>\n      <td>60.5</td>\n      <td>48.0</td>\n      <td>0.481</td>\n      <td>84.86</td>\n      <td>56.6</td>\n    </tr>\n    <tr>\n      <th>14</th>\n      <td>DZA</td>\n      <td>Algeria</td>\n      <td>0.003</td>\n      <td>0.7</td>\n      <td>36.9</td>\n      <td>0.011</td>\n      <td>2.70</td>\n      <td>40.0</td>\n    </tr>\n    <tr>\n      <th>31</th>\n      <td>SLV</td>\n      <td>El Salvador</td>\n      <td>0.010</td>\n      <td>2.4</td>\n      <td>40.3</td>\n      <td>0.052</td>\n      <td>12.51</td>\n      <td>41.8</td>\n    </tr>\n    <tr>\n      <th>79</th>\n      <td>AFG</td>\n      <td>Afghanistan</td>\n      <td>0.132</td>\n      <td>28.8</td>\n      <td>45.8</td>\n      <td>0.347</td>\n      <td>64.66</td>\n      <td>53.6</td>\n    </tr>\n    <tr>\n      <th>50</th>\n      <td>ZWE</td>\n      <td>Zimbabwe</td>\n      <td>0.034</td>\n      <td>8.7</td>\n      <td>39.3</td>\n      <td>0.202</td>\n      <td>46.27</td>\n      <td>43.7</td>\n    </tr>\n    <tr>\n      <th>45</th>\n      <td>IRQ</td>\n      <td>Iraq</td>\n      <td>0.028</td>\n      <td>7.7</td>\n      <td>36.0</td>\n      <td>0.083</td>\n      <td>20.48</td>\n      <td>40.6</td>\n    </tr>\n    <tr>\n      <th>10</th>\n      <td>LCA</td>\n      <td>Saint Lucia</td>\n      <td>0.002</td>\n      <td>0.5</td>\n      <td>36.7</td>\n      <td>0.004</td>\n      <td>1.05</td>\n      <td>35.2</td>\n    </tr>\n    <tr>\n      <th>85</th>\n      <td>TLS</td>\n      <td>Timor-Leste</td>\n      <td>0.176</td>\n      <td>37.3</td>\n      <td>47.3</td>\n      <td>0.414</td>\n      <td>77.03</td>\n      <td>53.7</td>\n    </tr>\n    <tr>\n      <th>7</th>\n      <td>MDA</td>\n      <td>Moldova, Republic of</td>\n      <td>0.001</td>\n      <td>0.3</td>\n      <td>42.2</td>\n      <td>0.003</td>\n      <td>1.01</td>\n      <td>34.7</td>\n    </tr>\n    <tr>\n      <th>86</th>\n      <td>GMB</td>\n      <td>Gambia</td>\n      <td>0.183</td>\n      <td>38.3</td>\n      <td>47.8</td>\n      <td>0.459</td>\n      <td>81.97</td>\n      <td>56.0</td>\n    </tr>\n  </tbody>\n</table>\n</div>"
     },
     "execution_count": 10,
     "metadata": {},
     "output_type": "execute_result"
    }
   ],
   "source": [
    "country.sample(10)"
   ],
   "metadata": {
    "collapsed": false,
    "pycharm": {
     "name": "#%%\n"
    }
   }
  },
  {
   "cell_type": "code",
   "execution_count": 11,
   "outputs": [
    {
     "data": {
      "text/plain": "102"
     },
     "execution_count": 11,
     "metadata": {},
     "output_type": "execute_result"
    }
   ],
   "source": [
    "country['Country'].nunique()"
   ],
   "metadata": {
    "collapsed": false,
    "pycharm": {
     "name": "#%%\n"
    }
   }
  },
  {
   "cell_type": "code",
   "execution_count": 12,
   "outputs": [
    {
     "name": "stdout",
     "output_type": "stream",
     "text": [
      "<class 'pandas.core.frame.DataFrame'>\n",
      "RangeIndex: 102 entries, 0 to 101\n",
      "Data columns (total 8 columns):\n",
      " #   Column                          Non-Null Count  Dtype  \n",
      "---  ------                          --------------  -----  \n",
      " 0   ISO                             102 non-null    object \n",
      " 1   Country                         102 non-null    object \n",
      " 2   MPI Urban                       102 non-null    float64\n",
      " 3   Headcount Ratio Urban           102 non-null    float64\n",
      " 4   Intensity of Deprivation Urban  102 non-null    float64\n",
      " 5   MPI Rural                       102 non-null    float64\n",
      " 6   Headcount Ratio Rural           102 non-null    float64\n",
      " 7   Intensity of Deprivation Rural  102 non-null    float64\n",
      "dtypes: float64(6), object(2)\n",
      "memory usage: 6.5+ KB\n"
     ]
    }
   ],
   "source": [
    "country.info()"
   ],
   "metadata": {
    "collapsed": false,
    "pycharm": {
     "name": "#%%\n"
    }
   }
  },
  {
   "cell_type": "code",
   "execution_count": 13,
   "outputs": [
    {
     "data": {
      "text/plain": "ISO                                object\nCountry                            object\nMPI Urban                         float64\nHeadcount Ratio Urban             float64\nIntensity of Deprivation Urban    float64\nMPI Rural                         float64\nHeadcount Ratio Rural             float64\nIntensity of Deprivation Rural    float64\ndtype: object"
     },
     "execution_count": 13,
     "metadata": {},
     "output_type": "execute_result"
    }
   ],
   "source": [
    "country.dtypes"
   ],
   "metadata": {
    "collapsed": false,
    "pycharm": {
     "name": "#%%\n"
    }
   }
  },
  {
   "cell_type": "code",
   "execution_count": 14,
   "outputs": [
    {
     "data": {
      "text/plain": "0"
     },
     "execution_count": 14,
     "metadata": {},
     "output_type": "execute_result"
    }
   ],
   "source": [
    "country.isnull().sum().sum()"
   ],
   "metadata": {
    "collapsed": false,
    "pycharm": {
     "name": "#%%\n"
    }
   }
  },
  {
   "cell_type": "code",
   "execution_count": 15,
   "outputs": [
    {
     "name": "stderr",
     "output_type": "stream",
     "text": [
      "/var/folders/3r/5z6c1ghs15s1b1zf0rbyrgsr0000gn/T/ipykernel_24735/3272099750.py:1: FutureWarning:\n",
      "\n",
      "The default value of numeric_only in DataFrame.cov is deprecated. In a future version, it will default to False. Select only valid columns or specify the value of numeric_only to silence this warning.\n",
      "\n"
     ]
    },
    {
     "data": {
      "text/plain": "<pandas.io.formats.style.Styler at 0x11c9a9d60>",
      "text/html": "<style type=\"text/css\">\n#T_c25bb_row0_col0, #T_c25bb_row0_col1, #T_c25bb_row0_col2, #T_c25bb_row0_col3, #T_c25bb_row0_col5 {\n  width: 10em;\n  background: linear-gradient(90deg, green 0.3%, transparent 0.3%);\n}\n#T_c25bb_row0_col4 {\n  width: 10em;\n  background: linear-gradient(90deg, green 0.2%, transparent 0.2%);\n}\n#T_c25bb_row1_col0 {\n  width: 10em;\n  background: linear-gradient(90deg, green 62.4%, transparent 62.4%);\n}\n#T_c25bb_row1_col1 {\n  width: 10em;\n  background: linear-gradient(90deg, green 60.9%, transparent 60.9%);\n}\n#T_c25bb_row1_col2 {\n  width: 10em;\n  background: linear-gradient(90deg, green 55.9%, transparent 55.9%);\n}\n#T_c25bb_row1_col3 {\n  width: 10em;\n  background: linear-gradient(90deg, green 52.9%, transparent 52.9%);\n}\n#T_c25bb_row1_col4 {\n  width: 10em;\n  background: linear-gradient(90deg, green 50.8%, transparent 50.8%);\n}\n#T_c25bb_row1_col5 {\n  width: 10em;\n  background: linear-gradient(90deg, green 53.0%, transparent 53.0%);\n}\n#T_c25bb_row2_col0 {\n  width: 10em;\n  background: linear-gradient(90deg, green 15.3%, transparent 15.3%);\n}\n#T_c25bb_row2_col1 {\n  width: 10em;\n  background: linear-gradient(90deg, green 14.9%, transparent 14.9%);\n}\n#T_c25bb_row2_col2 {\n  width: 10em;\n  background: linear-gradient(90deg, green 17.6%, transparent 17.6%);\n}\n#T_c25bb_row2_col3 {\n  width: 10em;\n  background: linear-gradient(90deg, green 14.0%, transparent 14.0%);\n}\n#T_c25bb_row2_col4 {\n  width: 10em;\n  background: linear-gradient(90deg, green 13.6%, transparent 13.6%);\n}\n#T_c25bb_row2_col5 {\n  width: 10em;\n  background: linear-gradient(90deg, green 14.8%, transparent 14.8%);\n}\n#T_c25bb_row3_col0, #T_c25bb_row3_col1, #T_c25bb_row3_col2, #T_c25bb_row3_col3, #T_c25bb_row3_col4, #T_c25bb_row3_col5 {\n  width: 10em;\n  background: linear-gradient(90deg, green 0.6%, transparent 0.6%);\n}\n#T_c25bb_row4_col0, #T_c25bb_row4_col1, #T_c25bb_row4_col2, #T_c25bb_row4_col3, #T_c25bb_row4_col4, #T_c25bb_row4_col5 {\n  width: 10em;\n  background: linear-gradient(90deg, green 100.0%, transparent 100.0%);\n}\n#T_c25bb_row5_col0 {\n  width: 10em;\n  background: linear-gradient(90deg, green 26.3%, transparent 26.3%);\n}\n#T_c25bb_row5_col1, #T_c25bb_row5_col3 {\n  width: 10em;\n  background: linear-gradient(90deg, green 25.9%, transparent 25.9%);\n}\n#T_c25bb_row5_col2 {\n  width: 10em;\n  background: linear-gradient(90deg, green 27.2%, transparent 27.2%);\n}\n#T_c25bb_row5_col4 {\n  width: 10em;\n  background: linear-gradient(90deg, green 24.8%, transparent 24.8%);\n}\n#T_c25bb_row5_col5 {\n  width: 10em;\n  background: linear-gradient(90deg, green 28.1%, transparent 28.1%);\n}\n</style>\n<table id=\"T_c25bb\">\n  <thead>\n    <tr>\n      <th class=\"blank level0\" >&nbsp;</th>\n      <th id=\"T_c25bb_level0_col0\" class=\"col_heading level0 col0\" >MPI Urban</th>\n      <th id=\"T_c25bb_level0_col1\" class=\"col_heading level0 col1\" >Headcount Ratio Urban</th>\n      <th id=\"T_c25bb_level0_col2\" class=\"col_heading level0 col2\" >Intensity of Deprivation Urban</th>\n      <th id=\"T_c25bb_level0_col3\" class=\"col_heading level0 col3\" >MPI Rural</th>\n      <th id=\"T_c25bb_level0_col4\" class=\"col_heading level0 col4\" >Headcount Ratio Rural</th>\n      <th id=\"T_c25bb_level0_col5\" class=\"col_heading level0 col5\" >Intensity of Deprivation Rural</th>\n    </tr>\n  </thead>\n  <tbody>\n    <tr>\n      <th id=\"T_c25bb_level0_row0\" class=\"row_heading level0 row0\" >MPI Urban</th>\n      <td id=\"T_c25bb_row0_col0\" class=\"data row0 col0\" >0.008778</td>\n      <td id=\"T_c25bb_row0_col1\" class=\"data row0 col1\" >1.726205</td>\n      <td id=\"T_c25bb_row0_col2\" class=\"data row0 col2\" >0.423465</td>\n      <td id=\"T_c25bb_row0_col3\" class=\"data row0 col3\" >0.017383</td>\n      <td id=\"T_c25bb_row0_col4\" class=\"data row0 col4\" >2.765437</td>\n      <td id=\"T_c25bb_row0_col5\" class=\"data row0 col5\" >0.727519</td>\n    </tr>\n    <tr>\n      <th id=\"T_c25bb_level0_row1\" class=\"row_heading level0 row1\" >Headcount Ratio Urban</th>\n      <td id=\"T_c25bb_row1_col0\" class=\"data row1 col0\" >1.726205</td>\n      <td id=\"T_c25bb_row1_col1\" class=\"data row1 col1\" >342.192576</td>\n      <td id=\"T_c25bb_row1_col2\" class=\"data row1 col2\" >83.988629</td>\n      <td id=\"T_c25bb_row1_col3\" class=\"data row1 col3\" >3.497284</td>\n      <td id=\"T_c25bb_row1_col4\" class=\"data row1 col4\" >562.253642</td>\n      <td id=\"T_c25bb_row1_col5\" class=\"data row1 col5\" >145.724312</td>\n    </tr>\n    <tr>\n      <th id=\"T_c25bb_level0_row2\" class=\"row_heading level0 row2\" >Intensity of Deprivation Urban</th>\n      <td id=\"T_c25bb_row2_col0\" class=\"data row2 col0\" >0.423465</td>\n      <td id=\"T_c25bb_row2_col1\" class=\"data row2 col1\" >83.988629</td>\n      <td id=\"T_c25bb_row2_col2\" class=\"data row2 col2\" >26.377550</td>\n      <td id=\"T_c25bb_row2_col3\" class=\"data row2 col3\" >0.922482</td>\n      <td id=\"T_c25bb_row2_col4\" class=\"data row2 col4\" >150.170818</td>\n      <td id=\"T_c25bb_row2_col5\" class=\"data row2 col5\" >40.798455</td>\n    </tr>\n    <tr>\n      <th id=\"T_c25bb_level0_row3\" class=\"row_heading level0 row3\" >MPI Rural</th>\n      <td id=\"T_c25bb_row3_col0\" class=\"data row3 col0\" >0.017383</td>\n      <td id=\"T_c25bb_row3_col1\" class=\"data row3 col1\" >3.497284</td>\n      <td id=\"T_c25bb_row3_col2\" class=\"data row3 col2\" >0.922482</td>\n      <td id=\"T_c25bb_row3_col3\" class=\"data row3 col3\" >0.040485</td>\n      <td id=\"T_c25bb_row3_col4\" class=\"data row3 col4\" >6.605646</td>\n      <td id=\"T_c25bb_row3_col5\" class=\"data row3 col5\" >1.707974</td>\n    </tr>\n    <tr>\n      <th id=\"T_c25bb_level0_row4\" class=\"row_heading level0 row4\" >Headcount Ratio Rural</th>\n      <td id=\"T_c25bb_row4_col0\" class=\"data row4 col0\" >2.765437</td>\n      <td id=\"T_c25bb_row4_col1\" class=\"data row4 col1\" >562.253642</td>\n      <td id=\"T_c25bb_row4_col2\" class=\"data row4 col2\" >150.170818</td>\n      <td id=\"T_c25bb_row4_col3\" class=\"data row4 col3\" >6.605646</td>\n      <td id=\"T_c25bb_row4_col4\" class=\"data row4 col4\" >1106.940426</td>\n      <td id=\"T_c25bb_row4_col5\" class=\"data row4 col5\" >274.867204</td>\n    </tr>\n    <tr>\n      <th id=\"T_c25bb_level0_row5\" class=\"row_heading level0 row5\" >Intensity of Deprivation Rural</th>\n      <td id=\"T_c25bb_row5_col0\" class=\"data row5 col0\" >0.727519</td>\n      <td id=\"T_c25bb_row5_col1\" class=\"data row5 col1\" >145.724312</td>\n      <td id=\"T_c25bb_row5_col2\" class=\"data row5 col2\" >40.798455</td>\n      <td id=\"T_c25bb_row5_col3\" class=\"data row5 col3\" >1.707974</td>\n      <td id=\"T_c25bb_row5_col4\" class=\"data row5 col4\" >274.867204</td>\n      <td id=\"T_c25bb_row5_col5\" class=\"data row5 col5\" >77.144443</td>\n    </tr>\n  </tbody>\n</table>\n"
     },
     "execution_count": 15,
     "metadata": {},
     "output_type": "execute_result"
    }
   ],
   "source": [
    "x = country.cov()\n",
    "x.style.bar(color = ['red', 'green'], align = 'mid')"
   ],
   "metadata": {
    "collapsed": false,
    "pycharm": {
     "name": "#%%\n"
    }
   }
  },
  {
   "cell_type": "code",
   "execution_count": null,
   "outputs": [],
   "source": [],
   "metadata": {
    "collapsed": false,
    "pycharm": {
     "name": "#%%\n"
    }
   }
  }
 ],
 "metadata": {
  "kernelspec": {
   "display_name": "Python 3",
   "language": "python",
   "name": "python3"
  },
  "language_info": {
   "codemirror_mode": {
    "name": "ipython",
    "version": 2
   },
   "file_extension": ".py",
   "mimetype": "text/x-python",
   "name": "python",
   "nbconvert_exporter": "python",
   "pygments_lexer": "ipython2",
   "version": "2.7.6"
  }
 },
 "nbformat": 4,
 "nbformat_minor": 0
}