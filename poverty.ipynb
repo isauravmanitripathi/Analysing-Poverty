{
 "cells": [
  {
   "cell_type": "code",
   "execution_count": 1,
   "metadata": {
    "collapsed": true
   },
   "outputs": [
    {
     "name": "stdout",
     "output_type": "stream",
     "text": [
      "Collecting dabl\r\n",
      "  Using cached dabl-0.2.2-py3-none-any.whl (558 kB)\r\n",
      "Requirement already satisfied: numpy in /Users/sauravtripathi/Downloads/python/Online-Retail-Transaction/venv/lib/python3.8/site-packages (from dabl) (1.23.4)\r\n",
      "Requirement already satisfied: seaborn in /Users/sauravtripathi/Downloads/python/Online-Retail-Transaction/venv/lib/python3.8/site-packages (from dabl) (0.12.1)\r\n",
      "Requirement already satisfied: matplotlib in /Users/sauravtripathi/Downloads/python/Online-Retail-Transaction/venv/lib/python3.8/site-packages (from dabl) (3.6.0)\r\n",
      "Collecting scikit-learn>=0.24.0\r\n",
      "  Downloading scikit_learn-1.1.3-cp38-cp38-macosx_10_9_x86_64.whl (8.6 MB)\r\n",
      "\u001B[K     |████████████████████████████████| 8.6 MB 3.8 MB/s eta 0:00:01     |█████████████▋                  | 3.7 MB 3.8 MB/s eta 0:00:02\r\n",
      "\u001B[?25hCollecting scipy\r\n",
      "  Downloading scipy-1.9.3-cp38-cp38-macosx_10_9_x86_64.whl (34.2 MB)\r\n",
      "\u001B[K     |████████████████████████████████| 34.2 MB 648 kB/s eta 0:00:011     |████████████████████████████    | 29.9 MB 75.5 MB/s eta 0:00:01\r\n",
      "\u001B[?25hRequirement already satisfied: pandas in /Users/sauravtripathi/Downloads/python/Online-Retail-Transaction/venv/lib/python3.8/site-packages (from dabl) (1.5.1)\r\n",
      "Collecting threadpoolctl>=2.0.0\r\n",
      "  Using cached threadpoolctl-3.1.0-py3-none-any.whl (14 kB)\r\n",
      "Collecting joblib>=1.0.0\r\n",
      "  Downloading joblib-1.2.0-py3-none-any.whl (297 kB)\r\n",
      "\u001B[K     |████████████████████████████████| 297 kB 12.9 MB/s eta 0:00:01\r\n",
      "\u001B[?25hRequirement already satisfied: pyparsing>=2.2.1 in /Users/sauravtripathi/Downloads/python/Online-Retail-Transaction/venv/lib/python3.8/site-packages (from matplotlib->dabl) (3.0.9)\r\n",
      "Requirement already satisfied: python-dateutil>=2.7 in /Users/sauravtripathi/Downloads/python/Online-Retail-Transaction/venv/lib/python3.8/site-packages (from matplotlib->dabl) (2.8.2)\r\n",
      "Requirement already satisfied: contourpy>=1.0.1 in /Users/sauravtripathi/Downloads/python/Online-Retail-Transaction/venv/lib/python3.8/site-packages (from matplotlib->dabl) (1.0.5)\r\n",
      "Requirement already satisfied: cycler>=0.10 in /Users/sauravtripathi/Downloads/python/Online-Retail-Transaction/venv/lib/python3.8/site-packages (from matplotlib->dabl) (0.11.0)\r\n",
      "Requirement already satisfied: pillow>=6.2.0 in /Users/sauravtripathi/Downloads/python/Online-Retail-Transaction/venv/lib/python3.8/site-packages (from matplotlib->dabl) (9.2.0)\r\n",
      "Requirement already satisfied: packaging>=20.0 in /Users/sauravtripathi/Downloads/python/Online-Retail-Transaction/venv/lib/python3.8/site-packages (from matplotlib->dabl) (21.3)\r\n",
      "Requirement already satisfied: kiwisolver>=1.0.1 in /Users/sauravtripathi/Downloads/python/Online-Retail-Transaction/venv/lib/python3.8/site-packages (from matplotlib->dabl) (1.4.4)\r\n",
      "Requirement already satisfied: fonttools>=4.22.0 in /Users/sauravtripathi/Downloads/python/Online-Retail-Transaction/venv/lib/python3.8/site-packages (from matplotlib->dabl) (4.38.0)\r\n",
      "Requirement already satisfied: six>=1.5 in /Users/sauravtripathi/Downloads/python/Online-Retail-Transaction/venv/lib/python3.8/site-packages (from python-dateutil>=2.7->matplotlib->dabl) (1.16.0)\r\n",
      "Requirement already satisfied: pytz>=2020.1 in /Users/sauravtripathi/Downloads/python/Online-Retail-Transaction/venv/lib/python3.8/site-packages (from pandas->dabl) (2022.5)\r\n",
      "Installing collected packages: threadpoolctl, scipy, joblib, scikit-learn, dabl\r\n",
      "Successfully installed dabl-0.2.2 joblib-1.2.0 scikit-learn-1.1.3 scipy-1.9.3 threadpoolctl-3.1.0\r\n",
      "\u001B[33mWARNING: You are using pip version 21.1.2; however, version 22.3 is available.\r\n",
      "You should consider upgrading via the '/Users/sauravtripathi/Downloads/python/Online-Retail-Transaction/venv/bin/python -m pip install --upgrade pip' command.\u001B[0m\r\n",
      "Collecting plotly\r\n",
      "  Downloading plotly-5.11.0-py2.py3-none-any.whl (15.3 MB)\r\n",
      "\u001B[K     |████████████████████████████████| 15.3 MB 3.6 MB/s eta 0:00:01\r\n",
      "\u001B[?25hCollecting tenacity>=6.2.0\r\n",
      "  Downloading tenacity-8.1.0-py3-none-any.whl (23 kB)\r\n",
      "Installing collected packages: tenacity, plotly\r\n",
      "Successfully installed plotly-5.11.0 tenacity-8.1.0\r\n",
      "\u001B[33mWARNING: You are using pip version 21.1.2; however, version 22.3 is available.\r\n",
      "You should consider upgrading via the '/Users/sauravtripathi/Downloads/python/Online-Retail-Transaction/venv/bin/python -m pip install --upgrade pip' command.\u001B[0m\r\n",
      "Requirement already satisfied: ipywidgets in /Users/sauravtripathi/Downloads/python/Online-Retail-Transaction/venv/lib/python3.8/site-packages (8.0.2)\r\n",
      "Requirement already satisfied: ipykernel>=4.5.1 in /Users/sauravtripathi/Downloads/python/Online-Retail-Transaction/venv/lib/python3.8/site-packages (from ipywidgets) (6.16.2)\r\n",
      "Requirement already satisfied: traitlets>=4.3.1 in /Users/sauravtripathi/Downloads/python/Online-Retail-Transaction/venv/lib/python3.8/site-packages (from ipywidgets) (5.5.0)\r\n",
      "Requirement already satisfied: widgetsnbextension~=4.0 in /Users/sauravtripathi/Downloads/python/Online-Retail-Transaction/venv/lib/python3.8/site-packages (from ipywidgets) (4.0.3)\r\n",
      "Requirement already satisfied: ipython>=6.1.0 in /Users/sauravtripathi/Downloads/python/Online-Retail-Transaction/venv/lib/python3.8/site-packages (from ipywidgets) (8.5.0)\r\n",
      "Requirement already satisfied: jupyterlab-widgets~=3.0 in /Users/sauravtripathi/Downloads/python/Online-Retail-Transaction/venv/lib/python3.8/site-packages (from ipywidgets) (3.0.3)\r\n",
      "Requirement already satisfied: jupyter-client>=6.1.12 in /Users/sauravtripathi/Downloads/python/Online-Retail-Transaction/venv/lib/python3.8/site-packages (from ipykernel>=4.5.1->ipywidgets) (7.4.4)\r\n",
      "Requirement already satisfied: psutil in /Users/sauravtripathi/Downloads/python/Online-Retail-Transaction/venv/lib/python3.8/site-packages (from ipykernel>=4.5.1->ipywidgets) (5.9.3)\r\n",
      "Requirement already satisfied: pyzmq>=17 in /Users/sauravtripathi/Downloads/python/Online-Retail-Transaction/venv/lib/python3.8/site-packages (from ipykernel>=4.5.1->ipywidgets) (24.0.1)\r\n",
      "Requirement already satisfied: tornado>=6.1 in /Users/sauravtripathi/Downloads/python/Online-Retail-Transaction/venv/lib/python3.8/site-packages (from ipykernel>=4.5.1->ipywidgets) (6.2)\r\n",
      "Requirement already satisfied: debugpy>=1.0 in /Users/sauravtripathi/Downloads/python/Online-Retail-Transaction/venv/lib/python3.8/site-packages (from ipykernel>=4.5.1->ipywidgets) (1.6.3)\r\n",
      "Requirement already satisfied: appnope in /Users/sauravtripathi/Downloads/python/Online-Retail-Transaction/venv/lib/python3.8/site-packages (from ipykernel>=4.5.1->ipywidgets) (0.1.3)\r\n",
      "Requirement already satisfied: matplotlib-inline>=0.1 in /Users/sauravtripathi/Downloads/python/Online-Retail-Transaction/venv/lib/python3.8/site-packages (from ipykernel>=4.5.1->ipywidgets) (0.1.6)\r\n",
      "Requirement already satisfied: nest-asyncio in /Users/sauravtripathi/Downloads/python/Online-Retail-Transaction/venv/lib/python3.8/site-packages (from ipykernel>=4.5.1->ipywidgets) (1.5.6)\r\n",
      "Requirement already satisfied: packaging in /Users/sauravtripathi/Downloads/python/Online-Retail-Transaction/venv/lib/python3.8/site-packages (from ipykernel>=4.5.1->ipywidgets) (21.3)\r\n",
      "Requirement already satisfied: stack-data in /Users/sauravtripathi/Downloads/python/Online-Retail-Transaction/venv/lib/python3.8/site-packages (from ipython>=6.1.0->ipywidgets) (0.5.1)\r\n",
      "Requirement already satisfied: pexpect>4.3 in /Users/sauravtripathi/Downloads/python/Online-Retail-Transaction/venv/lib/python3.8/site-packages (from ipython>=6.1.0->ipywidgets) (4.8.0)\r\n",
      "Requirement already satisfied: prompt-toolkit<3.1.0,>3.0.1 in /Users/sauravtripathi/Downloads/python/Online-Retail-Transaction/venv/lib/python3.8/site-packages (from ipython>=6.1.0->ipywidgets) (3.0.31)\r\n",
      "Requirement already satisfied: pickleshare in /Users/sauravtripathi/Downloads/python/Online-Retail-Transaction/venv/lib/python3.8/site-packages (from ipython>=6.1.0->ipywidgets) (0.7.5)\r\n",
      "Requirement already satisfied: pygments>=2.4.0 in /Users/sauravtripathi/Downloads/python/Online-Retail-Transaction/venv/lib/python3.8/site-packages (from ipython>=6.1.0->ipywidgets) (2.13.0)\r\n",
      "Requirement already satisfied: jedi>=0.16 in /Users/sauravtripathi/Downloads/python/Online-Retail-Transaction/venv/lib/python3.8/site-packages (from ipython>=6.1.0->ipywidgets) (0.18.1)\r\n",
      "Requirement already satisfied: backcall in /Users/sauravtripathi/Downloads/python/Online-Retail-Transaction/venv/lib/python3.8/site-packages (from ipython>=6.1.0->ipywidgets) (0.2.0)\r\n",
      "Requirement already satisfied: decorator in /Users/sauravtripathi/Downloads/python/Online-Retail-Transaction/venv/lib/python3.8/site-packages (from ipython>=6.1.0->ipywidgets) (5.1.1)\r\n",
      "Requirement already satisfied: parso<0.9.0,>=0.8.0 in /Users/sauravtripathi/Downloads/python/Online-Retail-Transaction/venv/lib/python3.8/site-packages (from jedi>=0.16->ipython>=6.1.0->ipywidgets) (0.8.3)\r\n",
      "Requirement already satisfied: jupyter-core>=4.9.2 in /Users/sauravtripathi/Downloads/python/Online-Retail-Transaction/venv/lib/python3.8/site-packages (from jupyter-client>=6.1.12->ipykernel>=4.5.1->ipywidgets) (4.11.2)\r\n",
      "Requirement already satisfied: entrypoints in /Users/sauravtripathi/Downloads/python/Online-Retail-Transaction/venv/lib/python3.8/site-packages (from jupyter-client>=6.1.12->ipykernel>=4.5.1->ipywidgets) (0.4)\r\n",
      "Requirement already satisfied: python-dateutil>=2.8.2 in /Users/sauravtripathi/Downloads/python/Online-Retail-Transaction/venv/lib/python3.8/site-packages (from jupyter-client>=6.1.12->ipykernel>=4.5.1->ipywidgets) (2.8.2)\r\n",
      "Requirement already satisfied: ptyprocess>=0.5 in /Users/sauravtripathi/Downloads/python/Online-Retail-Transaction/venv/lib/python3.8/site-packages (from pexpect>4.3->ipython>=6.1.0->ipywidgets) (0.7.0)\r\n",
      "Requirement already satisfied: wcwidth in /Users/sauravtripathi/Downloads/python/Online-Retail-Transaction/venv/lib/python3.8/site-packages (from prompt-toolkit<3.1.0,>3.0.1->ipython>=6.1.0->ipywidgets) (0.2.5)\r\n",
      "Requirement already satisfied: six>=1.5 in /Users/sauravtripathi/Downloads/python/Online-Retail-Transaction/venv/lib/python3.8/site-packages (from python-dateutil>=2.8.2->jupyter-client>=6.1.12->ipykernel>=4.5.1->ipywidgets) (1.16.0)\r\n",
      "Requirement already satisfied: pyparsing!=3.0.5,>=2.0.2 in /Users/sauravtripathi/Downloads/python/Online-Retail-Transaction/venv/lib/python3.8/site-packages (from packaging->ipykernel>=4.5.1->ipywidgets) (3.0.9)\r\n",
      "Requirement already satisfied: asttokens in /Users/sauravtripathi/Downloads/python/Online-Retail-Transaction/venv/lib/python3.8/site-packages (from stack-data->ipython>=6.1.0->ipywidgets) (2.0.8)\r\n",
      "Requirement already satisfied: pure-eval in /Users/sauravtripathi/Downloads/python/Online-Retail-Transaction/venv/lib/python3.8/site-packages (from stack-data->ipython>=6.1.0->ipywidgets) (0.2.2)\r\n",
      "Requirement already satisfied: executing in /Users/sauravtripathi/Downloads/python/Online-Retail-Transaction/venv/lib/python3.8/site-packages (from stack-data->ipython>=6.1.0->ipywidgets) (1.1.1)\r\n",
      "\u001B[33mWARNING: You are using pip version 21.1.2; however, version 22.3 is available.\r\n",
      "You should consider upgrading via the '/Users/sauravtripathi/Downloads/python/Online-Retail-Transaction/venv/bin/python -m pip install --upgrade pip' command.\u001B[0m\r\n"
     ]
    }
   ],
   "source": [
    "!pip install dabl\n",
    "!pip install plotly\n",
    "!pip install ipywidgets"
   ]
  },
  {
   "cell_type": "code",
   "execution_count": 2,
   "outputs": [
    {
     "name": "stdout",
     "output_type": "stream",
     "text": [
      "Requirement already satisfied: ipywidgets in /Users/sauravtripathi/Downloads/python/Online-Retail-Transaction/venv/lib/python3.8/site-packages (8.0.2)\r\n",
      "Requirement already satisfied: ipython>=6.1.0 in /Users/sauravtripathi/Downloads/python/Online-Retail-Transaction/venv/lib/python3.8/site-packages (from ipywidgets) (8.5.0)\r\n",
      "Requirement already satisfied: traitlets>=4.3.1 in /Users/sauravtripathi/Downloads/python/Online-Retail-Transaction/venv/lib/python3.8/site-packages (from ipywidgets) (5.5.0)\r\n",
      "Requirement already satisfied: widgetsnbextension~=4.0 in /Users/sauravtripathi/Downloads/python/Online-Retail-Transaction/venv/lib/python3.8/site-packages (from ipywidgets) (4.0.3)\r\n",
      "Requirement already satisfied: ipykernel>=4.5.1 in /Users/sauravtripathi/Downloads/python/Online-Retail-Transaction/venv/lib/python3.8/site-packages (from ipywidgets) (6.16.2)\r\n",
      "Requirement already satisfied: jupyterlab-widgets~=3.0 in /Users/sauravtripathi/Downloads/python/Online-Retail-Transaction/venv/lib/python3.8/site-packages (from ipywidgets) (3.0.3)\r\n",
      "Requirement already satisfied: jupyter-client>=6.1.12 in /Users/sauravtripathi/Downloads/python/Online-Retail-Transaction/venv/lib/python3.8/site-packages (from ipykernel>=4.5.1->ipywidgets) (7.4.4)\r\n",
      "Requirement already satisfied: debugpy>=1.0 in /Users/sauravtripathi/Downloads/python/Online-Retail-Transaction/venv/lib/python3.8/site-packages (from ipykernel>=4.5.1->ipywidgets) (1.6.3)\r\n",
      "Requirement already satisfied: tornado>=6.1 in /Users/sauravtripathi/Downloads/python/Online-Retail-Transaction/venv/lib/python3.8/site-packages (from ipykernel>=4.5.1->ipywidgets) (6.2)\r\n",
      "Requirement already satisfied: appnope in /Users/sauravtripathi/Downloads/python/Online-Retail-Transaction/venv/lib/python3.8/site-packages (from ipykernel>=4.5.1->ipywidgets) (0.1.3)\r\n",
      "Requirement already satisfied: matplotlib-inline>=0.1 in /Users/sauravtripathi/Downloads/python/Online-Retail-Transaction/venv/lib/python3.8/site-packages (from ipykernel>=4.5.1->ipywidgets) (0.1.6)\r\n",
      "Requirement already satisfied: psutil in /Users/sauravtripathi/Downloads/python/Online-Retail-Transaction/venv/lib/python3.8/site-packages (from ipykernel>=4.5.1->ipywidgets) (5.9.3)\r\n",
      "Requirement already satisfied: packaging in /Users/sauravtripathi/Downloads/python/Online-Retail-Transaction/venv/lib/python3.8/site-packages (from ipykernel>=4.5.1->ipywidgets) (21.3)\r\n",
      "Requirement already satisfied: nest-asyncio in /Users/sauravtripathi/Downloads/python/Online-Retail-Transaction/venv/lib/python3.8/site-packages (from ipykernel>=4.5.1->ipywidgets) (1.5.6)\r\n",
      "Requirement already satisfied: pyzmq>=17 in /Users/sauravtripathi/Downloads/python/Online-Retail-Transaction/venv/lib/python3.8/site-packages (from ipykernel>=4.5.1->ipywidgets) (24.0.1)\r\n",
      "Requirement already satisfied: prompt-toolkit<3.1.0,>3.0.1 in /Users/sauravtripathi/Downloads/python/Online-Retail-Transaction/venv/lib/python3.8/site-packages (from ipython>=6.1.0->ipywidgets) (3.0.31)\r\n",
      "Requirement already satisfied: stack-data in /Users/sauravtripathi/Downloads/python/Online-Retail-Transaction/venv/lib/python3.8/site-packages (from ipython>=6.1.0->ipywidgets) (0.5.1)\r\n",
      "Requirement already satisfied: decorator in /Users/sauravtripathi/Downloads/python/Online-Retail-Transaction/venv/lib/python3.8/site-packages (from ipython>=6.1.0->ipywidgets) (5.1.1)\r\n",
      "Requirement already satisfied: jedi>=0.16 in /Users/sauravtripathi/Downloads/python/Online-Retail-Transaction/venv/lib/python3.8/site-packages (from ipython>=6.1.0->ipywidgets) (0.18.1)\r\n",
      "Requirement already satisfied: pygments>=2.4.0 in /Users/sauravtripathi/Downloads/python/Online-Retail-Transaction/venv/lib/python3.8/site-packages (from ipython>=6.1.0->ipywidgets) (2.13.0)\r\n",
      "Requirement already satisfied: pexpect>4.3 in /Users/sauravtripathi/Downloads/python/Online-Retail-Transaction/venv/lib/python3.8/site-packages (from ipython>=6.1.0->ipywidgets) (4.8.0)\r\n",
      "Requirement already satisfied: pickleshare in /Users/sauravtripathi/Downloads/python/Online-Retail-Transaction/venv/lib/python3.8/site-packages (from ipython>=6.1.0->ipywidgets) (0.7.5)\r\n",
      "Requirement already satisfied: backcall in /Users/sauravtripathi/Downloads/python/Online-Retail-Transaction/venv/lib/python3.8/site-packages (from ipython>=6.1.0->ipywidgets) (0.2.0)\r\n",
      "Requirement already satisfied: parso<0.9.0,>=0.8.0 in /Users/sauravtripathi/Downloads/python/Online-Retail-Transaction/venv/lib/python3.8/site-packages (from jedi>=0.16->ipython>=6.1.0->ipywidgets) (0.8.3)\r\n",
      "Requirement already satisfied: python-dateutil>=2.8.2 in /Users/sauravtripathi/Downloads/python/Online-Retail-Transaction/venv/lib/python3.8/site-packages (from jupyter-client>=6.1.12->ipykernel>=4.5.1->ipywidgets) (2.8.2)\r\n",
      "Requirement already satisfied: jupyter-core>=4.9.2 in /Users/sauravtripathi/Downloads/python/Online-Retail-Transaction/venv/lib/python3.8/site-packages (from jupyter-client>=6.1.12->ipykernel>=4.5.1->ipywidgets) (4.11.2)\r\n",
      "Requirement already satisfied: entrypoints in /Users/sauravtripathi/Downloads/python/Online-Retail-Transaction/venv/lib/python3.8/site-packages (from jupyter-client>=6.1.12->ipykernel>=4.5.1->ipywidgets) (0.4)\r\n",
      "Requirement already satisfied: ptyprocess>=0.5 in /Users/sauravtripathi/Downloads/python/Online-Retail-Transaction/venv/lib/python3.8/site-packages (from pexpect>4.3->ipython>=6.1.0->ipywidgets) (0.7.0)\r\n",
      "Requirement already satisfied: wcwidth in /Users/sauravtripathi/Downloads/python/Online-Retail-Transaction/venv/lib/python3.8/site-packages (from prompt-toolkit<3.1.0,>3.0.1->ipython>=6.1.0->ipywidgets) (0.2.5)\r\n",
      "Requirement already satisfied: six>=1.5 in /Users/sauravtripathi/Downloads/python/Online-Retail-Transaction/venv/lib/python3.8/site-packages (from python-dateutil>=2.8.2->jupyter-client>=6.1.12->ipykernel>=4.5.1->ipywidgets) (1.16.0)\r\n",
      "Requirement already satisfied: pyparsing!=3.0.5,>=2.0.2 in /Users/sauravtripathi/Downloads/python/Online-Retail-Transaction/venv/lib/python3.8/site-packages (from packaging->ipykernel>=4.5.1->ipywidgets) (3.0.9)\r\n",
      "Requirement already satisfied: asttokens in /Users/sauravtripathi/Downloads/python/Online-Retail-Transaction/venv/lib/python3.8/site-packages (from stack-data->ipython>=6.1.0->ipywidgets) (2.0.8)\r\n",
      "Requirement already satisfied: pure-eval in /Users/sauravtripathi/Downloads/python/Online-Retail-Transaction/venv/lib/python3.8/site-packages (from stack-data->ipython>=6.1.0->ipywidgets) (0.2.2)\r\n",
      "Requirement already satisfied: executing in /Users/sauravtripathi/Downloads/python/Online-Retail-Transaction/venv/lib/python3.8/site-packages (from stack-data->ipython>=6.1.0->ipywidgets) (1.1.1)\r\n",
      "\u001B[33mWARNING: You are using pip version 21.1.2; however, version 22.3 is available.\r\n",
      "You should consider upgrading via the '/Users/sauravtripathi/Downloads/python/Online-Retail-Transaction/venv/bin/python -m pip install --upgrade pip' command.\u001B[0m\r\n"
     ]
    }
   ],
   "source": [
    "!pip install ipywidgets"
   ],
   "metadata": {
    "collapsed": false,
    "pycharm": {
     "name": "#%%\n"
    }
   }
  },
  {
   "cell_type": "code",
   "execution_count": null,
   "outputs": [],
   "source": [],
   "metadata": {
    "collapsed": false,
    "pycharm": {
     "name": "#%%\n"
    }
   }
  }
 ],
 "metadata": {
  "kernelspec": {
   "display_name": "Python 3",
   "language": "python",
   "name": "python3"
  },
  "language_info": {
   "codemirror_mode": {
    "name": "ipython",
    "version": 2
   },
   "file_extension": ".py",
   "mimetype": "text/x-python",
   "name": "python",
   "nbconvert_exporter": "python",
   "pygments_lexer": "ipython2",
   "version": "2.7.6"
  }
 },
 "nbformat": 4,
 "nbformat_minor": 0
}